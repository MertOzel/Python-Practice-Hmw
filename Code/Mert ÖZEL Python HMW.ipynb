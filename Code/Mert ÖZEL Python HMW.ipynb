{
 "cells": [
  {
   "cell_type": "markdown",
   "id": "6b03e59f",
   "metadata": {},
   "source": [
    "**YAP 101 Homework-1**  \n",
    "Due Date: 8 February 2022 23:59"
   ]
  },
  {
   "cell_type": "markdown",
   "id": "6c6a8dfc",
   "metadata": {},
   "source": [
    "**Q1 [15 Points]** \n",
    "\n",
    "Let a be a 1x4 matrix where its elements are [1,2,3,4]\n",
    "\n",
    "Let b be a 4x1 matrix where its elements are [1,2,3,4] (i.e., transpose of a)\n",
    "\n",
    "Then find the result of a*b  without using any library\n",
    "\n",
    "Note: For matrix-matirx multiplications you can check https://mathinsight.org/matrix_vector_multiplication"
   ]
  },
  {
   "cell_type": "code",
   "execution_count": 1,
   "id": "c12ba5f6",
   "metadata": {},
   "outputs": [
    {
     "name": "stdout",
     "output_type": "stream",
     "text": [
      "30\n",
      "[2]\n",
      "1\n"
     ]
    }
   ],
   "source": [
    "A = [1,2,3,4]\n",
    "\n",
    "B = [[1],\n",
    "     [2],\n",
    "     [3],\n",
    "     [4]]\n",
    "transposed_B = []\n",
    "result = 0\n",
    "\n",
    "for i in range(len(B)):\n",
    "    for j in range(len(B[0])):\n",
    "        transposed_B.append(B[i][j]) \n",
    "\n",
    "for index in range(0,4):\n",
    "    result += A[index] * transposed_B[index]\n",
    "    \n",
    "print(result)\n",
    "print(B[1])\n",
    "print(A[0])"
   ]
  },
  {
   "cell_type": "markdown",
   "id": "9e3e13e5",
   "metadata": {},
   "source": [
    "**Q2 [5 points]** Find the result of a*b using numpy"
   ]
  },
  {
   "cell_type": "code",
   "execution_count": 2,
   "id": "cd641335",
   "metadata": {},
   "outputs": [
    {
     "name": "stdout",
     "output_type": "stream",
     "text": [
      "[30]\n"
     ]
    }
   ],
   "source": [
    "import numpy as np\n",
    "\n",
    "A = np.array([1,2,3,4])\n",
    "\n",
    "B = np.array([[1],\n",
    "     [2],\n",
    "     [3],\n",
    "     [4]])\n",
    "result = np.matmul(A,B)\n",
    "print(result)"
   ]
  },
  {
   "cell_type": "markdown",
   "id": "df7f45e4",
   "metadata": {},
   "source": [
    "**Q3  [20 points]**  Write a function which returns true if the given parameter is a palindrome. Otherwise, it should return False.\n",
    "\n",
    "You cannot write recursive function for this question. You should not use any library."
   ]
  },
  {
   "cell_type": "code",
   "execution_count": 3,
   "id": "6a1456b0",
   "metadata": {},
   "outputs": [
    {
     "name": "stdout",
     "output_type": "stream",
     "text": [
      "Enter a word: kkk\n",
      "True\n"
     ]
    }
   ],
   "source": [
    "def IsItPalindrome(word):\n",
    "    if word == word[::-1]:\n",
    "        return True\n",
    "    else:\n",
    "        return False\n",
    "\n",
    "\n",
    "word = input(\"Enter a word: \")\n",
    "\n",
    "result = IsItPalindrome(word)\n",
    "print(result)"
   ]
  },
  {
   "cell_type": "markdown",
   "id": "da477169",
   "metadata": {},
   "source": [
    "**Q4  [20 points]** Today is Monday, 31/01/2022. What will be the day of the week, month and year after 14,401,401 days. "
   ]
  },
  {
   "cell_type": "code",
   "execution_count": 5,
   "id": "103cf431",
   "metadata": {
    "scrolled": false
   },
   "outputs": [
    {
     "name": "stdout",
     "output_type": "stream",
     "text": [
      "Enter a week day(First letter has to be Capital): Monday\n",
      "Enter a day(number): 31\n",
      "Enter a month(number): 1\n",
      "Enter a Year: 2022\n",
      "Enter number of future days: 14401401\n",
      "Future Date =  13-10-41451\n",
      "Week of the day:  Monday\n"
     ]
    }
   ],
   "source": [
    "month = [0,31,28,31,30,31,30,31,31,30,31,30,31]\n",
    "week_days = [\"Monday\", \"Tuesday\", \"Wednesday\", \"Thursday\", \"Friday\", \"Saturday\", \"Sunday\"]\n",
    "week_day_count = 0\n",
    "count = 0\n",
    "star_week_day = input(\"Enter a week day(First letter has to be Capital): \")\n",
    "start_day = int(input(\"Enter a day(number): \"))\n",
    "star_months = int(input(\"Enter a month(number): \"))\n",
    "start_year = int(input(\"Enter a Year: \"))\n",
    "days = int(input(\"Enter number of future days: \"))\n",
    "\n",
    "for i in range(0,7):\n",
    "    if star_week_day == week_days[i]:\n",
    "        week_day_count == i\n",
    "        break\n",
    "\n",
    "if start_year % 100 != 0 and start_year % 4 == 0 or start_year % 400 == 0:\n",
    "    month[2] = 29\n",
    "else:\n",
    "    month[2] = 28    \n",
    "    \n",
    "while count < days:\n",
    "    start_day = start_day+1\n",
    "    count = count+1\n",
    "    week_day_count = week_day_count +1\n",
    "    if week_day_count > 6:\n",
    "        week_day_count = 0    \n",
    "    if start_day > month[star_months]:\n",
    "        start_day = 1\n",
    "        star_months = star_months+1\n",
    "    if star_months > 12:\n",
    "        star_months = 1\n",
    "        start_year = start_year+1\n",
    "        if start_year % 100 != 0 and start_year % 4 == 0 or start_year % 400 == 0:\n",
    "            month[2] = 29\n",
    "        else:\n",
    "            month[2] = 28\n",
    "\n",
    "\n",
    "print(\"Future Date = \", end=\" \")\n",
    "print(start_day, end=\"-\")\n",
    "print(star_months, end=\"-\")\n",
    "print(start_year)\n",
    "print(\"Week of the day: \", week_days[week_day_count])"
   ]
  },
  {
   "cell_type": "markdown",
   "id": "70bcf9d5",
   "metadata": {},
   "source": [
    "**Q5 [20 Points]** \n",
    "Let A be an array as follows. 1,3,5,7,9,11,...,997,999 \n",
    "Let B be an array as follows. 3,5,7,9,11,13..,999,1001\n",
    "\n",
    "Find the Euclidian distance between these two arrays. \n",
    "You cannot use any library for this question.\n",
    "\n"
   ]
  },
  {
   "cell_type": "code",
   "execution_count": 6,
   "id": "fc4ec62d",
   "metadata": {},
   "outputs": [
    {
     "name": "stdout",
     "output_type": "stream",
     "text": [
      "44.72\n"
     ]
    }
   ],
   "source": [
    "A = range(1,1000,2)\n",
    "B = range(3,1002,2)\n",
    "temp = 0\n",
    "\n",
    "for index in range(len(A)):\n",
    "    temp += ((A[index] - B[index]) * (A[index] - B[index])) \n",
    "    \n",
    "result = temp**(1/2)\n",
    "print(round(result, 2))"
   ]
  },
  {
   "cell_type": "markdown",
   "id": "1bd0251e",
   "metadata": {},
   "source": [
    "**Q6 [10 Points]** \n",
    "\n",
    "Define a function which returns the sum of numbers in a given number. For instance, for 1234, it should return 10 (1 + 2 + 3 + 4) "
   ]
  },
  {
   "cell_type": "code",
   "execution_count": 7,
   "id": "9e37f18a",
   "metadata": {},
   "outputs": [
    {
     "name": "stdout",
     "output_type": "stream",
     "text": [
      "Enter your number: 5555\n",
      "20\n"
     ]
    }
   ],
   "source": [
    "def DigitSum(Num):\n",
    "    sum_of_digits = 0\n",
    "    for digit in str(Num):\n",
    "        sum_of_digits += int(digit)\n",
    "    return sum_of_digits\n",
    "\n",
    "user_number = input(\"Enter your number: \")\n",
    "\n",
    "sum_user_number = DigitSum(user_number)\n",
    "print(sum_user_number)"
   ]
  },
  {
   "cell_type": "markdown",
   "id": "373b4676",
   "metadata": {},
   "source": [
    "**Q7 [10 Points]** Define a function which will take a parameter n and \"draw\" a trianglte which has a height of n, its to sides should be equal and the other line should habe 2n-1 length.\n",
    "For instance, if n=4, it should pritn the following\n",
    "    \n",
    "         x\n",
    "        xxx\n",
    "       xxxxx\n",
    "      xxxxxxx\n",
    " \n",
    "If n = 5, it should pritn the following\n",
    "\n",
    "        x\n",
    "       xxx\n",
    "      xxxxx\n",
    "     xxxxxxx\n",
    "    xxxxxxxxx"
   ]
  },
  {
   "cell_type": "code",
   "execution_count": 8,
   "id": "2f95a3a5",
   "metadata": {},
   "outputs": [
    {
     "name": "stdout",
     "output_type": "stream",
     "text": [
      "Enter height of the triangle: 5\n",
      "      \n",
      "     x\n",
      "    xxx\n",
      "   xxxxx\n",
      "  xxxxxxx\n",
      " xxxxxxxxx\n"
     ]
    }
   ],
   "source": [
    "def TriangleMake(h):\n",
    "    \n",
    "    k = h + 1\n",
    "   \n",
    "    for i in range(h+1):\n",
    "        print(end=\" \" * k)\n",
    "        print(\"x\" * (2*i-1))\n",
    "        k = k-1\n",
    "        \n",
    "    return \n",
    "\n",
    "user_number = int(input(\"Enter height of the triangle: \"))\n",
    "TriangleMake(user_number)"
   ]
  }
 ],
 "metadata": {
  "kernelspec": {
   "display_name": "Python 3",
   "language": "python",
   "name": "python3"
  },
  "language_info": {
   "codemirror_mode": {
    "name": "ipython",
    "version": 3
   },
   "file_extension": ".py",
   "mimetype": "text/x-python",
   "name": "python",
   "nbconvert_exporter": "python",
   "pygments_lexer": "ipython3",
   "version": "3.8.8"
  }
 },
 "nbformat": 4,
 "nbformat_minor": 5
}
